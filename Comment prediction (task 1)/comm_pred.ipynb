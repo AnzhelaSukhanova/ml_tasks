{
  "nbformat": 4,
  "nbformat_minor": 0,
  "metadata": {
    "colab": {
      "name": "comm_pred.ipynb",
      "provenance": [],
      "collapsed_sections": [],
      "authorship_tag": "ABX9TyM+qnsc/wItsADC7PWhy2fj",
      "include_colab_link": true
    },
    "kernelspec": {
      "name": "python3",
      "display_name": "Python 3"
    },
    "language_info": {
      "name": "python"
    }
  },
  "cells": [
    {
      "cell_type": "markdown",
      "metadata": {
        "id": "view-in-github",
        "colab_type": "text"
      },
      "source": [
        "<a href=\"https://colab.research.google.com/github/AnzhelaSukhanova/ml_tasks/blob/main/Comment%20prediction%20(task%201)/comm_pred.ipynb\" target=\"_parent\"><img src=\"https://colab.research.google.com/assets/colab-badge.svg\" alt=\"Open In Colab\"/></a>"
      ]
    },
    {
      "cell_type": "code",
      "metadata": {
        "id": "lLWUW-T3MOcl"
      },
      "source": [
        "import sys\n",
        "import math\n",
        "from random import randrange\n",
        "from copy import copy\n",
        "from collections import defaultdict\n",
        "from statistics import mean, variance \n",
        "\n",
        "import pandas as pd"
      ],
      "execution_count": 13,
      "outputs": []
    },
    {
      "cell_type": "code",
      "metadata": {
        "id": "Bii1vqhYUQFl"
      },
      "source": [
        "feature_num = 0\n",
        "fold_num = 5\n",
        "epoch_num = 80"
      ],
      "execution_count": 14,
      "outputs": []
    },
    {
      "cell_type": "code",
      "metadata": {
        "id": "inioGUH4pJ59"
      },
      "source": [
        "!rm -rf Dataset.zip Dataset/ sample_data/"
      ],
      "execution_count": 15,
      "outputs": []
    },
    {
      "cell_type": "markdown",
      "metadata": {
        "id": "YTZbKsc2pFQ9"
      },
      "source": [
        "## Download data"
      ]
    },
    {
      "cell_type": "code",
      "metadata": {
        "colab": {
          "base_uri": "https://localhost:8080/"
        },
        "id": "69CgIGyzNdJJ",
        "outputId": "30908ed9-fef7-468c-bcb3-0e942b858ac0"
      },
      "source": [
        "!wget https://archive.ics.uci.edu/ml/machine-learning-databases/00363/Dataset.zip\n",
        "!unzip Dataset.zip > /devnull\n",
        "!rm -rf __MACOSX/ > /devnull"
      ],
      "execution_count": 16,
      "outputs": [
        {
          "output_type": "stream",
          "name": "stdout",
          "text": [
            "--2021-10-11 18:57:48--  https://archive.ics.uci.edu/ml/machine-learning-databases/00363/Dataset.zip\n",
            "Resolving archive.ics.uci.edu (archive.ics.uci.edu)... 128.195.10.252\n",
            "Connecting to archive.ics.uci.edu (archive.ics.uci.edu)|128.195.10.252|:443... connected.\n",
            "HTTP request sent, awaiting response... 200 OK\n",
            "Length: 19055526 (18M) [application/x-httpd-php]\n",
            "Saving to: ‘Dataset.zip’\n",
            "\n",
            "Dataset.zip         100%[===================>]  18.17M  21.6MB/s    in 0.8s    \n",
            "\n",
            "2021-10-11 18:57:49 (21.6 MB/s) - ‘Dataset.zip’ saved [19055526/19055526]\n",
            "\n"
          ]
        }
      ]
    },
    {
      "cell_type": "markdown",
      "metadata": {
        "id": "eJv3l2YSQKyh"
      },
      "source": [
        "## Data normalization"
      ]
    },
    {
      "cell_type": "code",
      "metadata": {
        "id": "-RMG-3gOQiRC"
      },
      "source": [
        "def normalize(train_data):\n",
        "    min_row = train_data.min()\n",
        "    max_row = train_data.max()\n",
        "\n",
        "    norm_data = pd.DataFrame(columns=range(feature_num))\n",
        "    for index, row in train_data.iterrows():\n",
        "        norm_data = norm_data.append((row - min_row)/(max_row - min_row),\n",
        "                                     ignore_index=True)\n",
        "    norm_data.iloc[:, -1] = train_data.iloc[:, -1]\n",
        "    return norm_data"
      ],
      "execution_count": 17,
      "outputs": []
    },
    {
      "cell_type": "markdown",
      "metadata": {
        "id": "Np-iMIN-Scwg"
      },
      "source": [
        "## Cross validation"
      ]
    },
    {
      "cell_type": "code",
      "metadata": {
        "id": "ondi2YlZSkxD"
      },
      "source": [
        "def get_folds(train_data):\n",
        "    folds = []\n",
        "    ground_truth = []\n",
        "    data_copy = copy(train_data)\n",
        "    fold_size = int(len(train_data) / fold_num)\n",
        "    \n",
        "    for _ in range(fold_num):\n",
        "        fold = pd.DataFrame(index=range(fold_size), columns=range(feature_num + 1))\n",
        "        for i in range(fold_size):\n",
        "            index = randrange(len(data_copy))\n",
        "            row = data_copy.iloc[index]\n",
        "            data_copy.drop(index)\n",
        "            fold.iloc[i] = row\n",
        "\n",
        "        ground_truth.append(fold.iloc[:, -1])\n",
        "        folds.append(fold.iloc[:, :-1])\n",
        "    return folds, ground_truth"
      ],
      "execution_count": 18,
      "outputs": []
    },
    {
      "cell_type": "markdown",
      "metadata": {
        "id": "toEGmrSvRtm4"
      },
      "source": [
        "## Prediction"
      ]
    },
    {
      "cell_type": "code",
      "metadata": {
        "id": "5v2RUCDNRzPn"
      },
      "source": [
        "def predict(row, weights):\n",
        "    pred_res = weights[0]\n",
        "    for i in range(1, len(row) + 1):\n",
        "        if math.isnan(row[i - 1]):\n",
        "            row.iat[i - 1] = 0\n",
        "        pred_res += weights[i] * row[i - 1]\n",
        "    return pred_res"
      ],
      "execution_count": 19,
      "outputs": []
    },
    {
      "cell_type": "markdown",
      "metadata": {
        "id": "w3hndlnhSHgu"
      },
      "source": [
        "## SGD"
      ]
    },
    {
      "cell_type": "code",
      "metadata": {
        "id": "1Sxb0-bNSMKi"
      },
      "source": [
        "def sgd(folds, ground_truth, test_ind):\n",
        "    weights = [0] * (feature_num + 1)\n",
        "    rows_num = folds[0].shape[0]\n",
        "\n",
        "    for i in range(fold_num):\n",
        "        if i != test_ind:\n",
        "            train_data = folds[i]\n",
        "            gt = ground_truth[i]\n",
        "            for j in range(1, epoch_num):\n",
        "                error_sum = 0\n",
        "                step = 1 / j\n",
        "                grad = defaultdict(int)\n",
        "\n",
        "                for k, row in train_data.iterrows():\n",
        "                    pred = predict(row, weights)\n",
        "                    error = pred - gt[k]\n",
        "                    error_sum += error ** 2\n",
        "                    grad[0] += error\n",
        "                    for l in range(1, feature_num):\n",
        "                        grad[l] += error * row[l - 1]\n",
        "\n",
        "                for k in range(feature_num):\n",
        "                    weights[k] = weights[k] - step * (2 / rows_num) * grad[k]\n",
        "                \n",
        "                # print('epoch=%d, step=%.3f, mse=%.3f' % (j, step, error_sum/rows_num))\n",
        "\n",
        "    return weights"
      ],
      "execution_count": 20,
      "outputs": []
    },
    {
      "cell_type": "markdown",
      "metadata": {
        "id": "Wher_fLXBhd0"
      },
      "source": [
        "## Stats (R^2, RMSE, mean, variance)"
      ]
    },
    {
      "cell_type": "code",
      "metadata": {
        "id": "TXzz7mUwBgVe"
      },
      "source": [
        "def get_stats(fold, ground_truth, weights):\n",
        "    error_sum = 0\n",
        "    dev_sum = 0\n",
        "    gt_mean = ground_truth.mean()\n",
        "    predictions = []\n",
        "    \n",
        "    for k, row in fold.iterrows():\n",
        "        pred = predict(row, weights)\n",
        "        error = pred - ground_truth[k]\n",
        "        error_sum += error ** 2\n",
        "        dev_sum += (ground_truth[k] - gt_mean) ** 2\n",
        "        predictions.append(pred)\n",
        "\n",
        "    n = fold.shape[0]\n",
        "    R2 = 1 - (error_sum / dev_sum)\n",
        "    rmse = math.sqrt(error_sum / n)\n",
        "    pred_mean = mean(predictions)\n",
        "    D = variance(predictions)\n",
        "    return R2, rmse, pred_mean, D"
      ],
      "execution_count": 21,
      "outputs": []
    },
    {
      "cell_type": "markdown",
      "metadata": {
        "id": "0DKL98TAvXwM"
      },
      "source": [
        "## Style"
      ]
    },
    {
      "cell_type": "code",
      "metadata": {
        "id": "S1QZ7UG4vZcy"
      },
      "source": [
        "def highlight_cells(x):\n",
        "    df = x.copy()\n",
        "    df.loc[:, :] = ''\n",
        "    for i in range(x.shape[0]):\n",
        "        df.iloc[i, i] = 'background-color: lightgreen'\n",
        "    return df "
      ],
      "execution_count": 22,
      "outputs": []
    },
    {
      "cell_type": "markdown",
      "metadata": {
        "id": "44Ded4fBSrbi"
      },
      "source": [
        "## Execution"
      ]
    },
    {
      "cell_type": "code",
      "metadata": {
        "id": "VC2k9E2SS59F"
      },
      "source": [
        "def main():\n",
        "    global feature_num\n",
        "    train_data = pd.read_csv('Dataset/Training/Features_Variant_1.csv', header=None)\n",
        "    feature_num = train_data.shape[1] - 1\n",
        "    train_data = normalize(train_data)\n",
        "    print('Normalization: done')\n",
        "    folds, ground_truth = get_folds(train_data)\n",
        "    print('Cross validation: done')\n",
        "\n",
        "    stats = pd.DataFrame(index=range(1, 6), columns=['F1', 'F2', 'F3', 'F4', 'F5', 'Weights'])\n",
        "    for i in range(fold_num):\n",
        "        weights = sgd(folds, ground_truth, i)\n",
        "        w_str = str(weights[0])\n",
        "        for j in range(1, len(weights)):\n",
        "            w_str += '\\n' + str(weights[j])\n",
        "        stats.iloc[i, 5] = w_str\n",
        "        for j in range(fold_num):\n",
        "            fold_stats = 'Train:\\n' if j != i else 'Test:\\n'\n",
        "            R2, rmse, mean, D = get_stats(folds[j], ground_truth[j], weights)\n",
        "            fold_stats += 'R^2: ' + str(R2) + '\\n'\n",
        "            fold_stats += 'RMSE: ' + str(rmse) + '\\n'\n",
        "            fold_stats += 'Mean: ' + str(mean) + '\\n'\n",
        "            fold_stats += 'Variance: ' + str(D)\n",
        "            stats.iloc[i, j] = fold_stats\n",
        "\n",
        "    table = stats.style.apply(highlight_cells, axis=None)\n",
        "    return table"
      ],
      "execution_count": 23,
      "outputs": []
    },
    {
      "cell_type": "code",
      "metadata": {
        "colab": {
          "base_uri": "https://localhost:8080/",
          "height": 1000
        },
        "id": "Ho8I3yKbTFbX",
        "outputId": "d683d2f1-9969-4618-be0d-4be8ebdef3dd"
      },
      "source": [
        "table = main()\n",
        "table"
      ],
      "execution_count": 24,
      "outputs": [
        {
          "output_type": "stream",
          "name": "stdout",
          "text": [
            "Normalization: done\n",
            "Cross validation: done\n"
          ]
        },
        {
          "output_type": "execute_result",
          "data": {
            "text/html": [
              "<style  type=\"text/css\" >\n",
              "#T_ffa0715a_2ada_11ec_921d_0242ac1c0002row0_col0,#T_ffa0715a_2ada_11ec_921d_0242ac1c0002row1_col1,#T_ffa0715a_2ada_11ec_921d_0242ac1c0002row2_col2,#T_ffa0715a_2ada_11ec_921d_0242ac1c0002row3_col3,#T_ffa0715a_2ada_11ec_921d_0242ac1c0002row4_col4{\n",
              "            background-color:  lightgreen;\n",
              "        }</style><table id=\"T_ffa0715a_2ada_11ec_921d_0242ac1c0002\" ><thead>    <tr>        <th class=\"blank level0\" ></th>        <th class=\"col_heading level0 col0\" >F1</th>        <th class=\"col_heading level0 col1\" >F2</th>        <th class=\"col_heading level0 col2\" >F3</th>        <th class=\"col_heading level0 col3\" >F4</th>        <th class=\"col_heading level0 col4\" >F5</th>        <th class=\"col_heading level0 col5\" >Weights</th>    </tr></thead><tbody>\n",
              "                <tr>\n",
              "                        <th id=\"T_ffa0715a_2ada_11ec_921d_0242ac1c0002level0_row0\" class=\"row_heading level0 row0\" >1</th>\n",
              "                        <td id=\"T_ffa0715a_2ada_11ec_921d_0242ac1c0002row0_col0\" class=\"data row0 col0\" >Test:\n",
              "R^2: 0.1880390631388601\n",
              "RMSE: 27.188052201042176\n",
              "Mean: 8.059428844424763\n",
              "Variance: 192.24142410645777</td>\n",
              "                        <td id=\"T_ffa0715a_2ada_11ec_921d_0242ac1c0002row0_col1\" class=\"data row0 col1\" >Train:\n",
              "R^2: 0.1826072897097073\n",
              "RMSE: 30.86090362922966\n",
              "Mean: 7.890221897398501\n",
              "Variance: 186.63638467085755</td>\n",
              "                        <td id=\"T_ffa0715a_2ada_11ec_921d_0242ac1c0002row0_col2\" class=\"data row0 col2\" >Train:\n",
              "R^2: 0.1705221016764653\n",
              "RMSE: 29.789212651818534\n",
              "Mean: 7.928973585994837\n",
              "Variance: 189.40703340249465</td>\n",
              "                        <td id=\"T_ffa0715a_2ada_11ec_921d_0242ac1c0002row0_col3\" class=\"data row0 col3\" >Train:\n",
              "R^2: 0.20737444729670207\n",
              "RMSE: 25.47326975877135\n",
              "Mean: 7.84631582922563\n",
              "Variance: 190.82530047031076</td>\n",
              "                        <td id=\"T_ffa0715a_2ada_11ec_921d_0242ac1c0002row0_col4\" class=\"data row0 col4\" >Train:\n",
              "R^2: 0.1987876649551299\n",
              "RMSE: 36.12219526518343\n",
              "Mean: 8.102207482070105\n",
              "Variance: 203.0261270042713</td>\n",
              "                        <td id=\"T_ffa0715a_2ada_11ec_921d_0242ac1c0002row0_col5\" class=\"data row0 col5\" >1.60919300164304\n",
              "0.40628381579065176\n",
              "-2.0092720217415\n",
              "1.4361600314301892\n",
              "-0.03388949098783243\n",
              "1.4818542864473727\n",
              "3.426859157628007\n",
              "7.207102797206148\n",
              "7.00336589054226\n",
              "11.151428212427493\n",
              "0.7235765072015209\n",
              "1.7522380865415754\n",
              "4.344968853875987\n",
              "3.3054966336227345\n",
              "12.50092246791879\n",
              "0.014064416950338799\n",
              "3.020992073614428\n",
              "12.10872426360694\n",
              "7.541615406952558\n",
              "9.715908614814865\n",
              "1.7160301350623797\n",
              "1.8421052032352718\n",
              "7.996747306151223\n",
              "7.833572552546342\n",
              "9.89119263299289\n",
              "0.5411158816146836\n",
              "1.7397579963300451\n",
              "1.5909598373807075\n",
              "0.7046133321995688\n",
              "11.545898026575044\n",
              "15.014620964595636\n",
              "19.734229621030444\n",
              "-0.9118836948333792\n",
              "16.02836919442443\n",
              "12.972189942692049\n",
              "-26.14390381452325\n",
              "-0.038711300022745296\n",
              "0.9493952180520401\n",
              "0.0\n",
              "3.983577518190948\n",
              "1.0713266738349816\n",
              "-0.9707188203337034\n",
              "0.49778433317062143\n",
              "3.2264901089547395\n",
              "0.8572683480360004\n",
              "-1.0077465119680273\n",
              "-2.0652111300514275\n",
              "1.069043810685272\n",
              "0.9728330876497676\n",
              "0.7108084140663798\n",
              "1.642496415010523\n",
              "0.38126903922122307\n",
              "-1.5579177450249235\n",
              "0</td>\n",
              "            </tr>\n",
              "            <tr>\n",
              "                        <th id=\"T_ffa0715a_2ada_11ec_921d_0242ac1c0002level0_row1\" class=\"row_heading level0 row1\" >2</th>\n",
              "                        <td id=\"T_ffa0715a_2ada_11ec_921d_0242ac1c0002row1_col0\" class=\"data row1 col0\" >Train:\n",
              "R^2: 0.18639273641942777\n",
              "RMSE: 27.215601402455235\n",
              "Mean: 8.058248039686243\n",
              "Variance: 190.568825532378</td>\n",
              "                        <td id=\"T_ffa0715a_2ada_11ec_921d_0242ac1c0002row1_col1\" class=\"data row1 col1\" >Test:\n",
              "R^2: 0.17931891518395182\n",
              "RMSE: 30.922918097309303\n",
              "Mean: 7.892330510125832\n",
              "Variance: 185.07809856609646</td>\n",
              "                        <td id=\"T_ffa0715a_2ada_11ec_921d_0242ac1c0002row1_col2\" class=\"data row1 col2\" >Train:\n",
              "R^2: 0.16807121949417814\n",
              "RMSE: 29.83318971203517\n",
              "Mean: 7.9266472698713\n",
              "Variance: 187.43147107791577</td>\n",
              "                        <td id=\"T_ffa0715a_2ada_11ec_921d_0242ac1c0002row1_col3\" class=\"data row1 col3\" >Train:\n",
              "R^2: 0.20470361430768924\n",
              "RMSE: 25.516151061763065\n",
              "Mean: 7.843949714340863\n",
              "Variance: 188.9100076729127</td>\n",
              "                        <td id=\"T_ffa0715a_2ada_11ec_921d_0242ac1c0002row1_col4\" class=\"data row1 col4\" >Train:\n",
              "R^2: 0.19538308461762666\n",
              "RMSE: 36.198860677049495\n",
              "Mean: 8.100334211342672\n",
              "Variance: 200.6330742764495</td>\n",
              "                        <td id=\"T_ffa0715a_2ada_11ec_921d_0242ac1c0002row1_col5\" class=\"data row1 col5\" >1.706799775542762\n",
              "0.35306210589132864\n",
              "-1.340544734856339\n",
              "1.2037931688231156\n",
              "0.03390396512882499\n",
              "1.3985052878863629\n",
              "3.7711345302144155\n",
              "6.744869313062746\n",
              "6.368868801257779\n",
              "10.890992874224686\n",
              "0.6890178493189341\n",
              "2.0017262415181745\n",
              "3.8955247124374877\n",
              "2.9194077485258534\n",
              "11.399031316054923\n",
              "0.043415789354003004\n",
              "3.7036202875205317\n",
              "11.553426713403084\n",
              "6.719259428722591\n",
              "9.673608283984413\n",
              "1.6104462442152554\n",
              "2.2663188290929166\n",
              "7.475154564295053\n",
              "7.176415175426436\n",
              "9.636732542547557\n",
              "0.2515442023412184\n",
              "1.9471689173024669\n",
              "1.309408448483549\n",
              "0.5191660358055282\n",
              "10.708498832510884\n",
              "14.745879150976348\n",
              "19.142360585899926\n",
              "-0.6863753823524105\n",
              "15.658522142167348\n",
              "12.548646920218596\n",
              "-26.10582165174866\n",
              "0.03294909437445975\n",
              "0.876193665831364\n",
              "0.0\n",
              "3.9263174465139845\n",
              "1.012751779885002\n",
              "-0.951520345877519\n",
              "0.5457460889056487\n",
              "3.3396581859565537\n",
              "0.9036618468638539\n",
              "-1.0154894025125687\n",
              "-2.1280083776780736\n",
              "1.3351404084577538\n",
              "1.246777343302566\n",
              "0.9659858647955045\n",
              "1.829324838767658\n",
              "0.5528376108667641\n",
              "-1.388880653899877\n",
              "0</td>\n",
              "            </tr>\n",
              "            <tr>\n",
              "                        <th id=\"T_ffa0715a_2ada_11ec_921d_0242ac1c0002level0_row2\" class=\"row_heading level0 row2\" >3</th>\n",
              "                        <td id=\"T_ffa0715a_2ada_11ec_921d_0242ac1c0002row2_col0\" class=\"data row2 col0\" >Train:\n",
              "R^2: 0.18744589921627441\n",
              "RMSE: 27.197981267032173\n",
              "Mean: 8.060650589683734\n",
              "Variance: 192.52493711348495</td>\n",
              "                        <td id=\"T_ffa0715a_2ada_11ec_921d_0242ac1c0002row2_col1\" class=\"data row2 col1\" >Train:\n",
              "R^2: 0.18120238549546563\n",
              "RMSE: 30.88741353020958\n",
              "Mean: 7.892031445892728\n",
              "Variance: 186.92785699218584</td>\n",
              "                        <td id=\"T_ffa0715a_2ada_11ec_921d_0242ac1c0002row2_col2\" class=\"data row2 col2\" >Test:\n",
              "R^2: 0.16894291378945658\n",
              "RMSE: 29.81755601983852\n",
              "Mean: 7.927665822826359\n",
              "Variance: 189.3439838956202</td>\n",
              "                        <td id=\"T_ffa0715a_2ada_11ec_921d_0242ac1c0002row2_col3\" class=\"data row2 col3\" >Train:\n",
              "R^2: 0.2059767388657544\n",
              "RMSE: 25.49571952813516\n",
              "Mean: 7.843927085967346\n",
              "Variance: 190.75243445225894</td>\n",
              "                        <td id=\"T_ffa0715a_2ada_11ec_921d_0242ac1c0002row2_col4\" class=\"data row2 col4\" >Train:\n",
              "R^2: 0.1974656358769985\n",
              "RMSE: 36.15198444057216\n",
              "Mean: 8.10347433540304\n",
              "Variance: 202.91987042437916</td>\n",
              "                        <td id=\"T_ffa0715a_2ada_11ec_921d_0242ac1c0002row2_col5\" class=\"data row2 col5\" >1.5995535815678557\n",
              "0.35342233317489596\n",
              "-1.8591474859859032\n",
              "1.1962848690924353\n",
              "0.06852997479079903\n",
              "1.3717839366471112\n",
              "3.8505811345118532\n",
              "6.961269196868246\n",
              "6.616788009602801\n",
              "11.249874556070157\n",
              "0.6973152736793595\n",
              "1.5942322238505595\n",
              "4.145654402331169\n",
              "3.1661462973871135\n",
              "12.079250793910983\n",
              "0.022863169126111735\n",
              "3.2547444503142784\n",
              "11.614231792163594\n",
              "6.764799326576898\n",
              "9.63019076930854\n",
              "1.5943790710361812\n",
              "2.1460929482416677\n",
              "7.734313591682256\n",
              "7.50433466505445\n",
              "9.96395477455058\n",
              "0.3260231567532665\n",
              "1.5314598512976871\n",
              "1.5118038770940678\n",
              "0.7404410137229338\n",
              "11.295769551997173\n",
              "14.765078623424344\n",
              "19.607854124371286\n",
              "-1.1570259877320206\n",
              "15.745300377532528\n",
              "13.00631222853397\n",
              "-26.29669985491007\n",
              "0.09866995593457285\n",
              "0.8055473382896686\n",
              "0.0\n",
              "3.8685780560837757\n",
              "0.9312246128854353\n",
              "-1.124196863134115\n",
              "0.37179892097870404\n",
              "3.4280974731801317\n",
              "1.0946460953515553\n",
              "-0.9707394852264685\n",
              "-2.1312771724673096\n",
              "1.3321984610780548\n",
              "1.385585646161863\n",
              "1.0712027837677098\n",
              "2.0828633126666305\n",
              "0.6069091118288105\n",
              "-1.5482292034700464\n",
              "0</td>\n",
              "            </tr>\n",
              "            <tr>\n",
              "                        <th id=\"T_ffa0715a_2ada_11ec_921d_0242ac1c0002level0_row3\" class=\"row_heading level0 row3\" >4</th>\n",
              "                        <td id=\"T_ffa0715a_2ada_11ec_921d_0242ac1c0002row3_col0\" class=\"data row3 col0\" >Train:\n",
              "R^2: 0.1884844007352311\n",
              "RMSE: 27.18059523979699\n",
              "Mean: 8.071461207416498\n",
              "Variance: 193.01110799255213</td>\n",
              "                        <td id=\"T_ffa0715a_2ada_11ec_921d_0242ac1c0002row3_col1\" class=\"data row3 col1\" >Train:\n",
              "R^2: 0.18237110147198332\n",
              "RMSE: 30.86536198558846\n",
              "Mean: 7.892334632511418\n",
              "Variance: 187.62416522239548</td>\n",
              "                        <td id=\"T_ffa0715a_2ada_11ec_921d_0242ac1c0002row3_col2\" class=\"data row3 col2\" >Train:\n",
              "R^2: 0.17088035661865653\n",
              "RMSE: 29.78277891484883\n",
              "Mean: 7.929359295318223\n",
              "Variance: 190.0479758418761</td>\n",
              "                        <td id=\"T_ffa0715a_2ada_11ec_921d_0242ac1c0002row3_col3\" class=\"data row3 col3\" >Test:\n",
              "R^2: 0.20635262970062462\n",
              "RMSE: 25.489683973348956\n",
              "Mean: 7.846628272333335\n",
              "Variance: 191.49992824671577</td>\n",
              "                        <td id=\"T_ffa0715a_2ada_11ec_921d_0242ac1c0002row3_col4\" class=\"data row3 col4\" >Train:\n",
              "R^2: 0.19872740970756253\n",
              "RMSE: 36.12355352616044\n",
              "Mean: 8.10219366894337\n",
              "Variance: 203.65347602263685</td>\n",
              "                        <td id=\"T_ffa0715a_2ada_11ec_921d_0242ac1c0002row3_col5\" class=\"data row3 col5\" >1.5486530661004905\n",
              "0.29875085925630496\n",
              "-2.246464818832622\n",
              "1.122555302426639\n",
              "-0.2494480397970476\n",
              "1.4767767957363032\n",
              "3.6116231360900324\n",
              "7.032703376613123\n",
              "6.734457397777042\n",
              "11.140614276795926\n",
              "0.715308146130449\n",
              "1.9797268846760574\n",
              "4.15804856579712\n",
              "3.1076060354881205\n",
              "12.283646563515\n",
              "0.045400598721027544\n",
              "3.262212852950655\n",
              "11.660452652030386\n",
              "7.283250414427606\n",
              "9.4463285802843\n",
              "1.6941121620081365\n",
              "1.8582642518669041\n",
              "7.779770317089057\n",
              "7.525279244539418\n",
              "9.835960930041182\n",
              "0.4928429065235482\n",
              "1.9798586807109997\n",
              "1.5084709862004635\n",
              "0.5970123635983837\n",
              "11.180810678105306\n",
              "15.125960137868848\n",
              "20.171254538290817\n",
              "-1.3906072086613663\n",
              "16.170096953158414\n",
              "13.434955832598408\n",
              "-26.247831174745507\n",
              "-0.000370657593833705\n",
              "0.870700696971166\n",
              "0.0\n",
              "3.908148053971558\n",
              "0.508749511888343\n",
              "-1.1060429670049905\n",
              "1.0227929998661727\n",
              "3.351747939037836\n",
              "1.0711062731495564\n",
              "-1.0403097956959146\n",
              "-2.259390895140381\n",
              "1.2517363887000825\n",
              "1.336887786425153\n",
              "1.2975538073689872\n",
              "1.4146082415463124\n",
              "0.21648787317138105\n",
              "-1.941626373597129\n",
              "0</td>\n",
              "            </tr>\n",
              "            <tr>\n",
              "                        <th id=\"T_ffa0715a_2ada_11ec_921d_0242ac1c0002level0_row4\" class=\"row_heading level0 row4\" >5</th>\n",
              "                        <td id=\"T_ffa0715a_2ada_11ec_921d_0242ac1c0002row4_col0\" class=\"data row4 col0\" >Train:\n",
              "R^2: 0.1877189515982639\n",
              "RMSE: 27.193411049756865\n",
              "Mean: 6.9315865625716135\n",
              "Variance: 126.52625541479294</td>\n",
              "                        <td id=\"T_ffa0715a_2ada_11ec_921d_0242ac1c0002row4_col1\" class=\"data row4 col1\" >Train:\n",
              "R^2: 0.1747365932061159\n",
              "RMSE: 31.009127907812644\n",
              "Mean: 6.815822147835828\n",
              "Variance: 123.74375018569582</td>\n",
              "                        <td id=\"T_ffa0715a_2ada_11ec_921d_0242ac1c0002row4_col2\" class=\"data row4 col2\" >Train:\n",
              "R^2: 0.17075982615452845\n",
              "RMSE: 29.784943621560625\n",
              "Mean: 6.820691428650441\n",
              "Variance: 125.27344896398647</td>\n",
              "                        <td id=\"T_ffa0715a_2ada_11ec_921d_0242ac1c0002row4_col3\" class=\"data row4 col3\" >Train:\n",
              "R^2: 0.21083829786842834\n",
              "RMSE: 25.41754848504729\n",
              "Mean: 6.770361120194058\n",
              "Variance: 127.16661896490126</td>\n",
              "                        <td id=\"T_ffa0715a_2ada_11ec_921d_0242ac1c0002row4_col4\" class=\"data row4 col4\" >Test:\n",
              "R^2: 0.17767099491383476\n",
              "RMSE: 36.59511590355578\n",
              "Mean: 6.995067395828926\n",
              "Variance: 133.3440645369636</td>\n",
              "                        <td id=\"T_ffa0715a_2ada_11ec_921d_0242ac1c0002row4_col5\" class=\"data row4 col5\" >1.9753549373236663\n",
              "0.33697062448615567\n",
              "-1.0532692043062937\n",
              "0.8898811062851173\n",
              "0.30561324895210557\n",
              "0.8657146260446155\n",
              "2.3538305004178417\n",
              "5.1911622391351715\n",
              "4.89037663356292\n",
              "8.824970258206143\n",
              "0.20297083941705285\n",
              "1.1866142591700677\n",
              "3.0190300960118486\n",
              "2.18327010429763\n",
              "10.064071642724896\n",
              "0.04305719717587346\n",
              "2.509419435206187\n",
              "9.089081529983531\n",
              "5.034210216038724\n",
              "7.8934766563295495\n",
              "0.9694956614203284\n",
              "0.9392472330694409\n",
              "5.729431020781953\n",
              "5.440906525459687\n",
              "7.835312567149502\n",
              "0.4310511612578895\n",
              "1.1967729921089814\n",
              "1.051445800364344\n",
              "0.3981459960366245\n",
              "9.285987735088147\n",
              "13.078071383209858\n",
              "17.326865043694607\n",
              "-0.8608954010786118\n",
              "13.93409781054817\n",
              "11.640819851656428\n",
              "-23.63421078678508\n",
              "0.030076207850049438\n",
              "0.7891172857277434\n",
              "0.0\n",
              "4.089665199499364\n",
              "1.0694695647000592\n",
              "-0.016845632878290936\n",
              "-0.04636052974456239\n",
              "0.8930574089767177\n",
              "-0.23925121311961492\n",
              "1.2130482083044134\n",
              "-0.897762868914975\n",
              "0.5881910487293598\n",
              "0.9999207851963341\n",
              "-0.29304016548190537\n",
              "0.6947451635112482\n",
              "-0.6265574694003473\n",
              "0.60512741650459\n",
              "0</td>\n",
              "            </tr>\n",
              "    </tbody></table>"
            ],
            "text/plain": [
              "<pandas.io.formats.style.Styler at 0x7fb65b2daf90>"
            ]
          },
          "metadata": {},
          "execution_count": 24
        }
      ]
    }
  ]
}